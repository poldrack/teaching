{
 "metadata": {
  "name": "",
  "signature": "sha256:1c34a568cfe814a7353dcaa73f9cc93e531471001e5af2da894c04a5ce7de755"
 },
 "nbformat": 3,
 "nbformat_minor": 0,
 "worksheets": [
  {
   "cells": [
    {
     "cell_type": "markdown",
     "metadata": {},
     "source": [
      "In this exercise, we will learn to classify individuals as republicans or democrats based on their internet search history.  \n",
      "\n",
      "We will focus on 5 web sites: webmd.com, nytimes.com, twitter.com, huffingtonpost.com, and foxnews.com\n",
      "\n",
      "Let's say that the likelihood of each group visiting each of those sites in any partiuclar week is as follows:"
     ]
    },
    {
     "cell_type": "code",
     "collapsed": false,
     "input": [
      "import numpy\n",
      "import pandas as pd\n",
      "\n",
      "\n",
      "p=numpy.zeros((2,5))\n",
      "p[0,:]=[0.2,0.25,0.1,0.05,0.9]  # republicans\n",
      "p[1,:]=[0.2,0.8,0.11,0.3,0.05] # democrats\n"
     ],
     "language": "python",
     "metadata": {},
     "outputs": [],
     "prompt_number": 52
    },
    {
     "cell_type": "markdown",
     "metadata": {},
     "source": [
      "Now let's generate some data for individuals in each group using a random number generator"
     ]
    },
    {
     "cell_type": "code",
     "collapsed": false,
     "input": [
      "npeople=50 # number in each group\n",
      "webvisits=numpy.zeros((npeople*2,5))\n",
      "party=numpy.zeros(npeople*2)\n",
      "party[npeople:]=1  # set half to democrat\n",
      "\n",
      "for person in range(npeople*2):\n",
      "    this_persons_party=party[person]\n",
      "    webvisits[person,:]=numpy.random.rand(5)<p[this_persons_party,:]\n",
      "    \n",
      "webvisits_data=pd.DataFrame(webvisits,columns=['webmd','nytimes','twitter','huffpost','foxnews'])\n",
      "webvisits_data_bygroup=webvisits_data.groupby(party)\n",
      "webvisits_data_bygroup.mean()"
     ],
     "language": "python",
     "metadata": {},
     "outputs": [
      {
       "html": [
        "<div style=\"max-height:1000px;max-width:1500px;overflow:auto;\">\n",
        "<table border=\"1\" class=\"dataframe\">\n",
        "  <thead>\n",
        "    <tr style=\"text-align: right;\">\n",
        "      <th></th>\n",
        "      <th>webmd</th>\n",
        "      <th>nytimes</th>\n",
        "      <th>twitter</th>\n",
        "      <th>huffpost</th>\n",
        "      <th>foxnews</th>\n",
        "    </tr>\n",
        "  </thead>\n",
        "  <tbody>\n",
        "    <tr>\n",
        "      <th>0</th>\n",
        "      <td> 0.24</td>\n",
        "      <td> 0.18</td>\n",
        "      <td> 0.08</td>\n",
        "      <td> 0.06</td>\n",
        "      <td> 0.86</td>\n",
        "    </tr>\n",
        "    <tr>\n",
        "      <th>1</th>\n",
        "      <td> 0.20</td>\n",
        "      <td> 0.80</td>\n",
        "      <td> 0.12</td>\n",
        "      <td> 0.26</td>\n",
        "      <td> 0.08</td>\n",
        "    </tr>\n",
        "  </tbody>\n",
        "</table>\n",
        "</div>"
       ],
       "metadata": {},
       "output_type": "pyout",
       "prompt_number": 53,
       "text": [
        "   webmd  nytimes  twitter  huffpost  foxnews\n",
        "0   0.24     0.18     0.08      0.06     0.86\n",
        "1   0.20     0.80     0.12      0.26     0.08"
       ]
      }
     ],
     "prompt_number": 53
    },
    {
     "cell_type": "markdown",
     "metadata": {},
     "source": [
      "Now let's see how well we can predict whether a person is a republican or democrat based on their web site visits.  We will loop through the dataset, leaving out each person and using the rest of the data to make a prediction.  Then we will test to see how good our predictions are."
     ]
    },
    {
     "cell_type": "code",
     "collapsed": false,
     "input": [
      "predictions=numpy.zeros(npeople*2)\n",
      "for i in range(npeople*2):\n",
      "    training_group=[j for j in range(npeople*2) if not j==i]\n",
      "    training_data_webvisits=webvisits_data.drop(i)\n",
      "    training_data_party=party[training_group]\n",
      "    group_means=training_data_webvisits.groupby(training_data_party).mean()\n",
      "    if numpy.corrcoef(group_means.iloc[0],webvisits_data.iloc[i])[0,1] < numpy.corrcoef(group_means.iloc[1],webvisits_data.iloc[i])[0,1]:\n",
      "        predictions[i]=1\n",
      "\n",
      "    "
     ],
     "language": "python",
     "metadata": {},
     "outputs": [],
     "prompt_number": 54
    },
    {
     "cell_type": "markdown",
     "metadata": {},
     "source": [
      "Compute the accuracy of our predictions by seeing how often the predicted value matched the actual party."
     ]
    },
    {
     "cell_type": "code",
     "collapsed": false,
     "input": [
      "print 'Accuracy:',numpy.sum(predictions==party)/float(len(predictions))\n"
     ],
     "language": "python",
     "metadata": {},
     "outputs": [
      {
       "output_type": "stream",
       "stream": "stdout",
       "text": [
        "Accuracy: 0.9\n"
       ]
      }
     ],
     "prompt_number": 55
    }
   ],
   "metadata": {}
  }
 ]
}