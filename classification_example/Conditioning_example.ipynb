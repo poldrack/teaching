{
 "metadata": {
  "name": "",
  "signature": "sha256:762bd031eeec88f03ab8ae6c9c73fa1ac7e32678a50eda9e7a253d384a56b625"
 },
 "nbformat": 3,
 "nbformat_minor": 0,
 "worksheets": [
  {
   "cells": [
    {
     "cell_type": "markdown",
     "metadata": {},
     "source": [
      "This exercise is meant to provide some intuition for the statement from Glymour's Automation of Discovery:\n",
      "\n",
      "\"In other words, you can use the diagram described above when, for predicting C, if you know the value of B, then the value of A doesn\u2019t tell you anything more about the probabilities of the values of C. In more technical terms, C is independent of A conditional on B. (C would also be independent of A conditional on B if the structure were C->B->A or C <-B<-A, but not if it were C->B<-A or B<-C->A, etc.)\"\n",
      "\n",
      "In particular, a question arise in class as to why the last two statements are true; that is, why isn't C independent of A conditional on B in the last two cases.\n",
      "\n",
      "We will attack this by making up some data and constructing examples using linear regression.\n",
      "\n",
      "First let's try the linear chain example, C->B->A to show that independence occurs in this case."
     ]
    },
    {
     "cell_type": "code",
     "collapsed": false,
     "input": [
      "import numpy\n",
      "import statsmodels.formula.api as sm\n",
      "\n",
      "npts=1000\n",
      "noiselevel=0.1\n",
      "\n",
      "C=numpy.random.randn(npts)  # generate random C\n",
      "C=C-numpy.mean(C)\n",
      "B=C + numpy.random.randn(npts)*noiselevel  # create B from C, adding a tiny amount of noise\n",
      "B=B-numpy.mean(B)\n",
      "A= B + numpy.random.randn(npts)*noiselevel  # create A from B, adding a tiny amount of noise\n",
      "A=A-numpy.mean(A)\n",
      "print 'Correlation between C and A:',numpy.corrcoef(A,C)[0,1]"
     ],
     "language": "python",
     "metadata": {},
     "outputs": [
      {
       "output_type": "stream",
       "stream": "stdout",
       "text": [
        "Correlation between C and A: 0.990435860285\n"
       ]
      }
     ],
     "prompt_number": 20
    },
    {
     "cell_type": "code",
     "collapsed": true,
     "input": [
      "# conditionalize on B using regression\n",
      "A_cond_B=sm.OLS( A, B ).fit().resid\n",
      "print 'Correlation between C and A(conditional on B):',numpy.corrcoef(A_cond_B,C)[0,1]"
     ],
     "language": "python",
     "metadata": {},
     "outputs": [
      {
       "output_type": "stream",
       "stream": "stdout",
       "text": [
        "Correlation between C and A(conditional on B): 0.00511669696823\n"
       ]
      }
     ],
     "prompt_number": 21
    },
    {
     "cell_type": "markdown",
     "metadata": {},
     "source": [
      "Now let's try this using the collider case (C->B<-A)"
     ]
    },
    {
     "cell_type": "code",
     "collapsed": false,
     "input": [
      "C=numpy.random.randn(npts)  # generate random C\n",
      "C=C - numpy.mean(C)\n",
      "A= numpy.random.randn(npts)  # generate random A\n",
      "A=A - numpy.mean(A)\n",
      "\n",
      "B=A + C + numpy.random.randn(npts)*noiselevel  # create B from sum of A and C, adding a tiny amount of noise\n",
      "B=B-numpy.mean(B)\n",
      "print 'Correlation between C and A:',numpy.corrcoef(A,C)[0,1]"
     ],
     "language": "python",
     "metadata": {},
     "outputs": [
      {
       "output_type": "stream",
       "stream": "stdout",
       "text": [
        "Correlation between C and A: -0.0248281760769\n"
       ]
      }
     ],
     "prompt_number": 22
    },
    {
     "cell_type": "code",
     "collapsed": false,
     "input": [
      "# conditionalize on B using regression\n",
      "A_cond_B=sm.OLS( A, B ).fit().resid\n",
      "print 'Correlation between C and A(conditional on B):',numpy.corrcoef(A_cond_B,C)[0,1]"
     ],
     "language": "python",
     "metadata": {},
     "outputs": [
      {
       "output_type": "stream",
       "stream": "stdout",
       "text": [
        "Correlation between C and A(conditional on B): -0.715531866181\n"
       ]
      }
     ],
     "prompt_number": 23
    },
    {
     "cell_type": "markdown",
     "metadata": {},
     "source": [
      "Now let's try conditioning on a child (B<-C->A)"
     ]
    },
    {
     "cell_type": "code",
     "collapsed": false,
     "input": [
      "C=numpy.random.randn(npts*noiselevel)  # generate random C\n",
      "C=C - numpy.mean(C)\n",
      "A= C + numpy.random.randn(npts)*noiselevel  # generate random A\n",
      "A=A - numpy.mean(A)\n",
      "\n",
      "B=C + numpy.random.randn(npts)*noiselevel  # create B from sum of A and C, adding a tiny amount of noise\n",
      "B=B-numpy.mean(B)\n",
      "print 'Correlation between C and A:',numpy.corrcoef(A,C)[0,1]"
     ],
     "language": "python",
     "metadata": {},
     "outputs": [
      {
       "output_type": "stream",
       "stream": "stdout",
       "text": [
        "Correlation between C and A: 0.99501275565\n"
       ]
      }
     ],
     "prompt_number": 24
    },
    {
     "cell_type": "code",
     "collapsed": false,
     "input": [
      "# conditionalize on B using regression\n",
      "A_cond_B=sm.OLS( A, B ).fit().resid\n",
      "print 'Correlation between C and A(conditional on B):',numpy.corrcoef(A_cond_B,C)[0,1]"
     ],
     "language": "python",
     "metadata": {},
     "outputs": [
      {
       "output_type": "stream",
       "stream": "stdout",
       "text": [
        "Correlation between C and A(conditional on B): 0.0680045477027\n"
       ]
      }
     ],
     "prompt_number": 25
    }
   ],
   "metadata": {}
  }
 ]
}